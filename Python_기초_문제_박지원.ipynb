{
 "cells": [
  {
   "cell_type": "markdown",
   "metadata": {},
   "source": [
    "# 2기 과제 - 파이썬 기초 문제 풀기\n",
    "- 지금까지 배운 기초 문법을 토대로 아래의 문제들을 풀어보세요\n",
    "- **최대한 간단하게** 소스코드를 작성해 주세요\n",
    "- '이름_정답.ipynb' 로 저장 후 과제 폴더에 제출해주세요 (2020.09.18 (금) 까지 제출)"
   ]
  },
  {
   "cell_type": "markdown",
   "metadata": {},
   "source": [
    "> 1. 화면에 Hello World 문자열을 출력하세요."
   ]
  },
  {
   "cell_type": "code",
   "execution_count": 13,
   "metadata": {},
   "outputs": [
    {
     "name": "stdout",
     "output_type": "stream",
     "text": [
      "Hello World\n"
     ]
    }
   ],
   "source": [
    "print(\"Hello World\")"
   ]
  },
  {
   "cell_type": "markdown",
   "metadata": {},
   "source": [
    "> 2. print() 함수를 사용하여 다음과 같이 출력하세요. (hint : sep 인자를 사용하세요)\n",
    "\n",
    "실행 예 :   \n",
    "**월요일,화요일,수요일,목요일**"
   ]
  },
  {
   "cell_type": "code",
   "execution_count": 14,
   "metadata": {},
   "outputs": [
    {
     "name": "stdout",
     "output_type": "stream",
     "text": [
      "월요일,화요일,수요일,목요일\n"
     ]
    }
   ],
   "source": [
    "print('월','화','수','목요일',sep='요일,')"
   ]
  },
  {
   "cell_type": "markdown",
   "metadata": {},
   "source": [
    "> 3. 변수 s와 t에는 각각 문자열이 바인딩 되어있습니다. 두 변수를 이용하여 아래와 같이 출력해보세요.\n",
    "\n",
    "실행 예 :  \n",
    "**hello! python**"
   ]
  },
  {
   "cell_type": "code",
   "execution_count": 15,
   "metadata": {},
   "outputs": [
    {
     "name": "stdout",
     "output_type": "stream",
     "text": [
      "hello ! python\n"
     ]
    }
   ],
   "source": [
    "s = \"hello\"\n",
    "t = \"python\"\n",
    "\n",
    "# start code 와 end code 사이에만 코드를 작성해 주세요!\n",
    "\n",
    "# ---------- start code ----------\n",
    "print(s,\"!\",t)\n",
    "# ---------- end code ------------"
   ]
  },
  {
   "cell_type": "markdown",
   "metadata": {},
   "source": [
    "> 4. a와 b의 데이터 타입을 출력하세요.    \n",
    "\n",
    "실행 예 :   \n",
    "**<class 'int'>**  \n",
    "**<class 'str'>**  "
   ]
  },
  {
   "cell_type": "code",
   "execution_count": 16,
   "metadata": {},
   "outputs": [
    {
     "name": "stdout",
     "output_type": "stream",
     "text": [
      "<class 'int'>\n",
      "<class 'str'>\n"
     ]
    }
   ],
   "source": [
    "a = 128\n",
    "b = 'Turtle'\n",
    "\n",
    "# start code 와 end code 사이에만 코드를 작성해 주세요!\n",
    "\n",
    "# ---------- start code ----------\n",
    "print(type(a) , type(b),sep='\\n')\n",
    "# ---------- end code ------------"
   ]
  },
  {
   "cell_type": "markdown",
   "metadata": {},
   "source": [
    "> 5. 문자열 '720'를 정수형으로 변환해보세요."
   ]
  },
  {
   "cell_type": "code",
   "execution_count": 17,
   "metadata": {},
   "outputs": [
    {
     "name": "stdout",
     "output_type": "stream",
     "text": [
      "720 <class 'int'>\n"
     ]
    }
   ],
   "source": [
    "num_str = \"720\"\n",
    "\n",
    "# ---------- start code ----------\n",
    "num_int = int('720')\n",
    "# ---------- end code ------------\n",
    "\n",
    "print(num_int, type(num_int))"
   ]
  },
  {
   "cell_type": "markdown",
   "metadata": {},
   "source": [
    "> 6. string 이 바인딩하는 문자열에서 네번째와 일곱번째 문자를 출력하세요.  \n",
    "\n",
    "실행 예 :  \n",
    "**o t**"
   ]
  },
  {
   "cell_type": "code",
   "execution_count": 18,
   "metadata": {},
   "outputs": [
    {
     "name": "stdout",
     "output_type": "stream",
     "text": [
      "o t\n"
     ]
    }
   ],
   "source": [
    "string = \"algorithm\"\n",
    "\n",
    "# ---------- start code ----------\n",
    "print(string[3],string[6])\n",
    "# ---------- end code ------------"
   ]
  },
  {
   "cell_type": "markdown",
   "metadata": {},
   "source": [
    "> 7. 문자열을 거꾸로 뒤집어 출력하세요.  \n",
    "\n",
    "실행 예 :   \n",
    "**NOHTYP**"
   ]
  },
  {
   "cell_type": "code",
   "execution_count": 19,
   "metadata": {},
   "outputs": [
    {
     "name": "stdout",
     "output_type": "stream",
     "text": [
      "NOHTYP\n"
     ]
    }
   ],
   "source": [
    "string = \"PYTHON\"\n",
    "\n",
    "# ---------- start code ----------\n",
    "print(''.join(reversed(string)))\n",
    "# ---------- end code ------------"
   ]
  },
  {
   "cell_type": "markdown",
   "metadata": {},
   "source": [
    "> 8. 아래의 전화번호에서 하이푼 ('-')을 제거하고 출력하세요.  \n",
    "\n",
    "실행 예 :    \n",
    "**010 1234 1234**    "
   ]
  },
  {
   "cell_type": "code",
   "execution_count": 20,
   "metadata": {},
   "outputs": [
    {
     "name": "stdout",
     "output_type": "stream",
     "text": [
      "010 1234 1234\n"
     ]
    }
   ],
   "source": [
    "phone_num = \"010-1234-1234\"\n",
    "\n",
    "# ---------- start code ----------\n",
    "phone_num1 = phone_num.replace(\"-\",\" \")\n",
    "# ---------- end code ------------\n",
    "\n",
    "print(phone_num1)"
   ]
  },
  {
   "cell_type": "markdown",
   "metadata": {},
   "source": [
    "> 9. 다음과 같은 문자열이 있을 때 이를 소문자 datascience로 변경하여 출력하세요."
   ]
  },
  {
   "cell_type": "code",
   "execution_count": 21,
   "metadata": {},
   "outputs": [
    {
     "name": "stdout",
     "output_type": "stream",
     "text": [
      "datascience\n"
     ]
    }
   ],
   "source": [
    "string = 'DATASCIENCE'\n",
    "\n",
    "# ---------- start code ----------\n",
    "print(string.lower())\n",
    "# ---------- end code ------------"
   ]
  },
  {
   "cell_type": "markdown",
   "metadata": {},
   "source": [
    "> 10. color 리스트에는 아래와 같이 네 개의 색이 바인딩되어 있습니다. \"purple\"을 \"red\"와 \"blue\" 사이에 추가하고 출력하세요."
   ]
  },
  {
   "cell_type": "code",
   "execution_count": 22,
   "metadata": {},
   "outputs": [
    {
     "data": {
      "text/plain": [
       "['black', 'white', 'red', 'purple', 'blue', 'yellow']"
      ]
     },
     "execution_count": 22,
     "metadata": {},
     "output_type": "execute_result"
    }
   ],
   "source": [
    "color = [\"black\", \"white\", \"red\", \"blue\", \"yellow\"]\n",
    "\n",
    "# ---------- start code ----------\n",
    "color.insert(3,\"purple\")\n",
    "color\n",
    "# ---------- end code ------------"
   ]
  },
  {
   "cell_type": "markdown",
   "metadata": {},
   "source": [
    "> 11. alpha 리스트에서 '100'를 삭제하고 출력하세요."
   ]
  },
  {
   "cell_type": "code",
   "execution_count": 23,
   "metadata": {},
   "outputs": [
    {
     "data": {
      "text/plain": [
       "['a', 'b', 'c', 'd']"
      ]
     },
     "execution_count": 23,
     "metadata": {},
     "output_type": "execute_result"
    }
   ],
   "source": [
    "alpha = ['a', 'b', '100', 'c', 'd']\n",
    "\n",
    "# ---------- start code ----------\n",
    "del alpha[2]\n",
    "alpha\n",
    "# ---------- end code ------------"
   ]
  },
  {
   "cell_type": "markdown",
   "metadata": {},
   "source": [
    "> 12. 다음 리스트에서 최댓값과 최솟값을 출력하세요. (힌트: min(), max() 함수 사용) \n",
    "\n",
    "실행 예 :   \n",
    "**max:  7**  \n",
    "**min:  1**"
   ]
  },
  {
   "cell_type": "code",
   "execution_count": 24,
   "metadata": {
    "scrolled": true
   },
   "outputs": [
    {
     "name": "stdout",
     "output_type": "stream",
     "text": [
      "max: 7\n",
      "min: 1\n"
     ]
    }
   ],
   "source": [
    "nums = [1, 2, 3, 4, 5, 6, 7]\n",
    "\n",
    "# ---------- start code ----------\n",
    "print(\"max:\",max(nums))\n",
    "print(\"min:\",min(nums))\n",
    "# ---------- end code ------------"
   ]
  },
  {
   "cell_type": "markdown",
   "metadata": {},
   "source": [
    "> 13. 다음 리스트에 저장된 데이터의 개수를 출력하세요."
   ]
  },
  {
   "cell_type": "code",
   "execution_count": 25,
   "metadata": {},
   "outputs": [
    {
     "data": {
      "text/plain": [
       "7"
      ]
     },
     "execution_count": 25,
     "metadata": {},
     "output_type": "execute_result"
    }
   ],
   "source": [
    "day = [\"Mon\", \"Tue\", \"Wed\", \"Thu\", \"Fri\", \"Sat\", \"Sun\"]\n",
    "\n",
    "# ---------- start code ----------\n",
    "len(day)\n",
    "# ---------- end code ------------"
   ]
  },
  {
   "cell_type": "markdown",
   "metadata": {},
   "source": [
    "> 14. 다음 리스트의 평균과 합을 출력하세요."
   ]
  },
  {
   "cell_type": "code",
   "execution_count": 26,
   "metadata": {},
   "outputs": [
    {
     "name": "stdout",
     "output_type": "stream",
     "text": [
      "합: 15\n",
      "평균: 3.0\n"
     ]
    }
   ],
   "source": [
    "nums = [1, 2, 3, 4, 5]\n",
    "\n",
    "# ---------- start code ----------\n",
    "print(\"합:\",sum(nums))\n",
    "print(\"평균:\",sum(nums)/5)\n",
    "# ---------- end code ------------"
   ]
  },
  {
   "cell_type": "markdown",
   "metadata": {},
   "source": [
    "> 15. interest 리스트에는 아래의 데이터가 바인딩되어 있습니다. 리스트 인덱싱을 사용하여 아래와 같이 화면에 출력하세요.  \n",
    "\n",
    "실행 예 :   \n",
    "**삼성전자 Naver**"
   ]
  },
  {
   "cell_type": "code",
   "execution_count": 27,
   "metadata": {},
   "outputs": [
    {
     "name": "stdout",
     "output_type": "stream",
     "text": [
      "삼성전자 Naver\n"
     ]
    }
   ],
   "source": [
    "interest = ['삼성전자', 'LG전자', 'Naver']\n",
    "\n",
    "# ---------- start code ----------\n",
    "print(interest[0],interest[2])\n",
    "# ---------- end code ------------"
   ]
  },
  {
   "cell_type": "markdown",
   "metadata": {},
   "source": [
    "> 16. empty 이름의 비어있는 튜플을 만드세요."
   ]
  },
  {
   "cell_type": "code",
   "execution_count": 28,
   "metadata": {},
   "outputs": [
    {
     "name": "stdout",
     "output_type": "stream",
     "text": [
      "<class 'tuple'>\n"
     ]
    }
   ],
   "source": [
    "# ---------- start code ----------\n",
    "empty = ()\n",
    "# ---------- end code ------------\n",
    "\n",
    "print(type(empty))"
   ]
  },
  {
   "cell_type": "markdown",
   "metadata": {},
   "source": [
    "> 17. list [5, 3, 1, -1, -3, -5, -7, -9] 가 출력되게 만드세요. 리스트를 만들 때는 'range'를 사용해야 합니다."
   ]
  },
  {
   "cell_type": "code",
   "execution_count": 29,
   "metadata": {},
   "outputs": [
    {
     "name": "stdout",
     "output_type": "stream",
     "text": [
      "[5, 3, 1, -1, -3, -5, -7, -9]\n"
     ]
    }
   ],
   "source": [
    "# ---------- start code ----------\n",
    "list=list(range(-9,6,2))\n",
    "list.sort(reverse=True)\n",
    "# ---------- end code ------------\n",
    "\n",
    "print(list)"
   ]
  },
  {
   "cell_type": "markdown",
   "metadata": {},
   "source": [
    "> 18. 국어, 영어, 수학, 과학 점수가 있을 때 한 과목이라도 50점 미만이면 불합격이라고 정했습니다.   \n",
    "코드를 완성하여 합격이면 True, 불합격이면 False가 출력되게 만드세요."
   ]
  },
  {
   "cell_type": "code",
   "execution_count": 30,
   "metadata": {},
   "outputs": [
    {
     "name": "stdout",
     "output_type": "stream",
     "text": [
      "False\n"
     ]
    }
   ],
   "source": [
    "kor = 92\n",
    "eng = 47\n",
    "mat = 86\n",
    "sci = 81\n",
    "\n",
    "# ---------- start code ----------\n",
    "if kor<50 or eng<50 or mat<50 or sci<50:\n",
    "    print(False)\n",
    "else: print(True)\n",
    "# ---------- end code ------------"
   ]
  },
  {
   "cell_type": "markdown",
   "metadata": {},
   "source": [
    "> 19. 사용자에게 정수 세 개를 **입력받으면** 합계를 출력하는 코드를 작성하세요. (힌트:input() 함수 사용)"
   ]
  },
  {
   "cell_type": "code",
   "execution_count": 31,
   "metadata": {},
   "outputs": [
    {
     "name": "stdout",
     "output_type": "stream",
     "text": [
      "첫 번째 정수를 입력하세요:5\n",
      "두 번째 정수를 입력하세요:6\n",
      "세 번째 정수를 입력하세요:7\n",
      "18\n"
     ]
    }
   ],
   "source": [
    "num1=int(input(\"첫 번째 정수를 입력하세요:\"))\n",
    "num2=int(input(\"두 번째 정수를 입력하세요:\"))\n",
    "num3=int(input(\"세 번째 정수를 입력하세요:\"))\n",
    "print(num1+num2+num3)"
   ]
  },
  {
   "cell_type": "markdown",
   "metadata": {},
   "source": [
    "> 20-1. 다음 과일 이름과 색깔을 딕셔너리로 구성한 뒤 출력하세요.  \n",
    "20-2. 만든 딕셔너리를 사용하여 \"grape\" 의 색깔을 출력하세요.\n",
    "\n",
    "|과일|색깔|\n",
    "|------|---|\n",
    "|apple|red|\n",
    "|grape|purple|\n",
    "|lemon|yellow|"
   ]
  },
  {
   "cell_type": "code",
   "execution_count": 32,
   "metadata": {},
   "outputs": [
    {
     "data": {
      "text/plain": [
       "'purple'"
      ]
     },
     "execution_count": 32,
     "metadata": {},
     "output_type": "execute_result"
    }
   ],
   "source": [
    "# 20-1 question ------------------\n",
    "dic={'apple':'red','grape':'purple','lemon':'yellow'}\n",
    "dic\n",
    "# ---------- end code ------------\n",
    "\n",
    "\n",
    "# 20-2 question ------------------\n",
    "dic['grape']\n",
    "# ---------- end code ------------"
   ]
  },
  {
   "cell_type": "markdown",
   "metadata": {},
   "source": [
    "> 21. icecream 딕셔너리에서 아이스크림 판매 금액의 총합을 출력하세요."
   ]
  },
  {
   "cell_type": "code",
   "execution_count": 33,
   "metadata": {},
   "outputs": [
    {
     "data": {
      "text/plain": [
       "6700"
      ]
     },
     "execution_count": 33,
     "metadata": {},
     "output_type": "execute_result"
    }
   ],
   "source": [
    "icecream = {'탱크보이': 1200, '폴라포': 1200, '빵빠레': 1800, '월드콘': 1500, '메로나': 1000}\n",
    "\n",
    "# ---------- start code ----------\n",
    "icecream['탱크보이']+icecream['폴라포']+icecream['빵빠레']+icecream['월드콘']+icecream['메로나']\n",
    "# ---------- end code ------------"
   ]
  },
  {
   "cell_type": "markdown",
   "metadata": {},
   "source": [
    "> 22. 아래 두 개의 튜플을 하나의 딕셔너리로 변환하여 출력하세요. keys를 키로, vals를 값으로 저장해야 합니다."
   ]
  },
  {
   "cell_type": "code",
   "execution_count": 34,
   "metadata": {},
   "outputs": [
    {
     "name": "stdout",
     "output_type": "stream",
     "text": [
      "{'apple': 300, 'pear': 250, 'peach': 400}\n"
     ]
    }
   ],
   "source": [
    "keys = (\"apple\", \"pear\", \"peach\")\n",
    "vals = (300, 250, 400)\n",
    "\n",
    "# ---------- start code ----------\n",
    "a=dict(zip(keys, vals))\n",
    "print(a)\n",
    "# ---------- end code ------------"
   ]
  },
  {
   "cell_type": "markdown",
   "metadata": {},
   "source": [
    "> 23. x의 값이 10이 아닐 때 'ok'가 출력되게 만드세요. (if 조건문 사용)"
   ]
  },
  {
   "cell_type": "code",
   "execution_count": 35,
   "metadata": {},
   "outputs": [
    {
     "name": "stdout",
     "output_type": "stream",
     "text": [
      "ok\n"
     ]
    }
   ],
   "source": [
    "x = 5\n",
    "\n",
    "# ---------- start code ----------\n",
    "if x!=10:\n",
    "    print(\"ok\")\n",
    "# ---------- end code ------------"
   ]
  },
  {
   "cell_type": "markdown",
   "metadata": {},
   "source": [
    "> 24. 변수 x가 11과 20 사이면 '11-20', 21과 30 사이면 '21-30', 아무것도 해당하지 않으면 '아무것도 해당하지 않음'이 출력되게 만드세요."
   ]
  },
  {
   "cell_type": "code",
   "execution_count": 36,
   "metadata": {},
   "outputs": [
    {
     "name": "stdout",
     "output_type": "stream",
     "text": [
      "56\n",
      "아무것도 해당하지 않음\n"
     ]
    }
   ],
   "source": [
    "x = int(input())\n",
    "\n",
    "# ---------- start code ----------\n",
    "if 11<=x<=20:\n",
    "    print(\"11-20\")\n",
    "elif 21<=x<=30:\n",
    "    print(\"21-30\")\n",
    "else:\n",
    "    print(\"아무것도 해당하지 않음\")\n",
    "# ---------- end code ------------"
   ]
  },
  {
   "cell_type": "markdown",
   "metadata": {},
   "source": [
    "> 25. 리스트 x에 들어있는 각 요소에 10을 곱한 값이 출력되게 만드세요. 모든 숫자는 공백으로 구분하여 한 줄로 출력되어야 합니다.\n",
    "\n",
    "실행 예 :   \n",
    "**490 -170 250 1020 80 620 210**"
   ]
  },
  {
   "cell_type": "code",
   "execution_count": 37,
   "metadata": {},
   "outputs": [
    {
     "name": "stdout",
     "output_type": "stream",
     "text": [
      "490 -170 250 1020 80 620 210 "
     ]
    }
   ],
   "source": [
    "x = [49, -17, 25, 102, 8, 62, 21]\n",
    "\n",
    "# ---------- start code ----------\n",
    "for i in x:\n",
    "    print(i * 10, end=' ')\n",
    "# ---------- end code ------------"
   ]
  },
  {
   "cell_type": "markdown",
   "metadata": {},
   "source": [
    "> 26. 0과 73 사이의 숫자 중 3으로 끝나는 숫자만 출력되게 만드세요.  \n",
    "\n",
    "실행 예 :    \n",
    "**3 13 23 33 43 53 63 73**"
   ]
  },
  {
   "cell_type": "code",
   "execution_count": 38,
   "metadata": {},
   "outputs": [
    {
     "name": "stdout",
     "output_type": "stream",
     "text": [
      "3 13 23 33 43 53 63 73 "
     ]
    }
   ],
   "source": [
    "for x in range(0,74,1):\n",
    "    if x%10==3:\n",
    "        print(x, end=\" \")"
   ]
  },
  {
   "cell_type": "markdown",
   "metadata": {},
   "source": [
    "> 27. 리스트 a에 들어있는 문자열 중에서 길이가 5인 것들만 리스트 형태로 출력되게 만드세요 (hint: 리스트 표현식)"
   ]
  },
  {
   "cell_type": "code",
   "execution_count": 39,
   "metadata": {},
   "outputs": [
    {
     "name": "stdout",
     "output_type": "stream",
     "text": [
      "['alpha', 'bravo', 'delta', 'hotel', 'india']\n"
     ]
    }
   ],
   "source": [
    "a = ['alpha', 'bravo', 'charlie', 'delta', 'echo', 'foxtrot', 'golf', 'hotel', 'india']\n",
    "\n",
    "# ---------- start code ----------\n",
    "b = [t for t in a if len(t)==5]\n",
    "# ---------- end code ------------\n",
    "\n",
    "print(b)"
   ]
  },
  {
   "cell_type": "markdown",
   "metadata": {},
   "source": [
    "> 28. 두 개의 숫자를 입력받아 합/차/곱/나눗셈을 출력하는 \"print_arithmetic_operation\" 함수를 작성하라.  \n",
    "\n",
    "실행 예 :  \n",
    "**3 + 4 = 7**  \n",
    "**3 - 4 = -1**  \n",
    "**3 * 4 = 12**  \n",
    "**3 / 4 = 0.75**  "
   ]
  },
  {
   "cell_type": "code",
   "execution_count": 40,
   "metadata": {},
   "outputs": [
    {
     "name": "stdout",
     "output_type": "stream",
     "text": [
      "3 + 4 = 7\n",
      "3 - 4 = -1\n",
      "3 * 4 = 12\n",
      "3 / 4 = 0.75\n"
     ]
    }
   ],
   "source": [
    "# ---------- start code ----------    \n",
    "def print_arithmetic_operation(a, b):\n",
    "    print(a, \"+\", b, \"=\", a + b)\n",
    "    print(a, \"-\", b, \"=\", a - b)\n",
    "    print(a, \"*\", b, \"=\", a * b)\n",
    "    print(a, \"/\", b, \"=\", a / b)\n",
    "# ---------- end code ------------                                 \n",
    " \n",
    "print_arithmetic_operation(3, 4)"
   ]
  },
  {
   "cell_type": "markdown",
   "metadata": {},
   "source": [
    "> 29. 하나의 리스트를 입력받아 짝수만 화면에 출력하는 print_even 함수를 정의하라.  \n",
    "\n",
    "실행 예 :   \n",
    "**2**  \n",
    "**10**   \n",
    "**12**  "
   ]
  },
  {
   "cell_type": "code",
   "execution_count": 41,
   "metadata": {},
   "outputs": [
    {
     "name": "stdout",
     "output_type": "stream",
     "text": [
      "2\n",
      "10\n",
      "12\n"
     ]
    }
   ],
   "source": [
    "# ---------- start code ----------  \n",
    "def print_even (a) :\n",
    "    for x in a :\n",
    "        if x%2==0 :\n",
    "            print(x)\n",
    "# ---------- end code ------------  \n",
    "\n",
    "print_even ([1, 3, 2, 10, 12, 11, 15])"
   ]
  },
  {
   "cell_type": "markdown",
   "metadata": {},
   "source": [
    "> 30. 아래와 같이 \"price_list\" 리스트의 데이터를 출력하라. 단, for문과 range문을 사용하라. (hint: enumerate)  \n",
    "\n",
    "실행 예 :   \n",
    "**0 32100**  \n",
    "**1 32150**  \n",
    "**2 32000**  \n",
    "**3 32500**"
   ]
  },
  {
   "cell_type": "code",
   "execution_count": 42,
   "metadata": {},
   "outputs": [
    {
     "name": "stdout",
     "output_type": "stream",
     "text": [
      "0 32100\n",
      "1 32150\n",
      "2 32000\n",
      "3 32500\n"
     ]
    }
   ],
   "source": [
    "price_list = [32100, 32150, 32000, 32500]\n",
    "\n",
    "# ---------- start code ----------   \n",
    "for x,y in enumerate(price_list):\n",
    "    print(x, end=\" \")\n",
    "    print(y)\n",
    "# ---------- end code ------------  "
   ]
  },
  {
   "cell_type": "markdown",
   "metadata": {},
   "source": [
    "# 보너스 문제\n",
    "- 아래 네 개의 문제 중 **두 개**를 선택해서 풀고, 주석을 통해 코드를 간단히 설명해주세요."
   ]
  },
  {
   "cell_type": "markdown",
   "metadata": {},
   "source": [
    "## 1. 숫자 Up & Down 게임\n",
    "- 컴퓨터가 1~100 사이의 랜덤한 수를 제시하고 사용자가 그 수를 맞추는 게임을 만들어보세요.\n",
    "- 실행 예 :   \n",
    "\n",
    "1~100 숫자 Up & Down 게임을 시작합니다 !!!  \n",
    "++++++++++++++++++++++++++++++++++++  \n",
    "1 ~ 100 사이의 숫자를 입력하세요 : 60  \n",
    "Down  \n",
    "1 ~ 100 사이의 숫자를 입력하세요 : 55  \n",
    "Up  \n",
    "1 ~ 100 사이의 숫자를 입력하세요 : 57  \n",
    "Up   \n",
    "++++++++++++++++++++++++++++++++++++  \n",
    "4 번 만에 정답을 맞추셨습니다"
   ]
  },
  {
   "cell_type": "code",
   "execution_count": 43,
   "metadata": {},
   "outputs": [
    {
     "name": "stdout",
     "output_type": "stream",
     "text": [
      "1~100 숫자 Up & Down 게임을 시작합니다 !!!\n",
      "+++++++++++++++++++++++++++++++++++++++++++\n",
      "1~100 사이의 숫자를 입력하세요:50\n",
      "Down\n",
      "1~100 사이의 숫자를 입력하세요:20\n",
      "Up\n",
      "1~100 사이의 숫자를 입력하세요:30\n",
      "Up\n",
      "1~100 사이의 숫자를 입력하세요:40\n",
      "Down\n",
      "1~100 사이의 숫자를 입력하세요:35\n",
      "*************************************\n",
      "5 번 만에 정답을 맞추셨습니다.\n"
     ]
    }
   ],
   "source": [
    "print(\"1~100 숫자 Up & Down 게임을 시작합니다 !!!\")\n",
    "print(\"+++++++++++++++++++++++++++++++++++++++++++\")\n",
    "import random #랜덤 숫자 불러오기\n",
    "x = random.randint(1,100) \n",
    "\n",
    "count=1 #횟수\n",
    "\n",
    "i=int(input(\"1~100 사이의 숫자를 입력하세요:\"))\n",
    "while True:    \n",
    "    if i<x:\n",
    "        print('Up')\n",
    "        count=count+1\n",
    "        i=int(input(\"1~100 사이의 숫자를 입력하세요:\"))\n",
    "    if i>x:\n",
    "        print('Down')\n",
    "        count=count+1\n",
    "        i=int(input('1~100 사이의 숫자를 입력하세요:'))\n",
    "    if i==x:\n",
    "        print('*************************************')\n",
    "        print(count,\"번 만에 정답을 맞추셨습니다.\")\n",
    "        break"
   ]
  },
  {
   "cell_type": "markdown",
   "metadata": {},
   "source": [
    "## 2. 구구단 출력하기\n",
    "- 2단에서 9단까지 구구단을 출력하세요.\n",
    "- 실행 예 :   \n",
    "    \n",
    "★ 구구단을 출력합니다.  \n",
    "\n",
    "------- [2단] -------  \n",
    "2 X 1 = 2  \n",
    "2 X 2 = 4  \n",
    "2 X 3 = 6  \n",
    "2 X 4 = 8  \n",
    "2 X 5 = 10  \n",
    "2 X 6 = 12  \n",
    "2 X 7 = 14  \n",
    "2 X 8 = 16  \n",
    "2 X 9 = 18  \n",
    "------- [3단] -------  \n",
    "3 X 1 = 3  \n",
    "3 X 2 = 6  \n",
    "3 X 3 = 9  \n",
    "\n",
    "...\n",
    "\n",
    "------- [9단] -------  \n",
    "9 X 1 = 9  \n",
    "9 X 2 = 18  \n",
    "9 X 3 = 27  \n",
    "9 X 4 = 36  \n",
    "9 X 5 = 45  \n",
    "9 X 6 = 54  \n",
    "9 X 7 = 63  \n",
    "9 X 8 = 72  \n",
    "9 X 9 = 81  "
   ]
  },
  {
   "cell_type": "code",
   "execution_count": 44,
   "metadata": {},
   "outputs": [
    {
     "name": "stdout",
     "output_type": "stream",
     "text": [
      "★구구단을 출력합니다.\n",
      "-----[ 2 ]단 -----\n",
      "2 X 1 = 2\n",
      "2 X 2 = 4\n",
      "2 X 3 = 6\n",
      "2 X 4 = 8\n",
      "2 X 5 = 10\n",
      "2 X 6 = 12\n",
      "2 X 7 = 14\n",
      "2 X 8 = 16\n",
      "2 X 9 = 18\n",
      "-----[ 3 ]단 -----\n",
      "3 X 1 = 3\n",
      "3 X 2 = 6\n",
      "3 X 3 = 9\n",
      "3 X 4 = 12\n",
      "3 X 5 = 15\n",
      "3 X 6 = 18\n",
      "3 X 7 = 21\n",
      "3 X 8 = 24\n",
      "3 X 9 = 27\n",
      "-----[ 4 ]단 -----\n",
      "4 X 1 = 4\n",
      "4 X 2 = 8\n",
      "4 X 3 = 12\n",
      "4 X 4 = 16\n",
      "4 X 5 = 20\n",
      "4 X 6 = 24\n",
      "4 X 7 = 28\n",
      "4 X 8 = 32\n",
      "4 X 9 = 36\n",
      "-----[ 5 ]단 -----\n",
      "5 X 1 = 5\n",
      "5 X 2 = 10\n",
      "5 X 3 = 15\n",
      "5 X 4 = 20\n",
      "5 X 5 = 25\n",
      "5 X 6 = 30\n",
      "5 X 7 = 35\n",
      "5 X 8 = 40\n",
      "5 X 9 = 45\n",
      "-----[ 6 ]단 -----\n",
      "6 X 1 = 6\n",
      "6 X 2 = 12\n",
      "6 X 3 = 18\n",
      "6 X 4 = 24\n",
      "6 X 5 = 30\n",
      "6 X 6 = 36\n",
      "6 X 7 = 42\n",
      "6 X 8 = 48\n",
      "6 X 9 = 54\n",
      "-----[ 7 ]단 -----\n",
      "7 X 1 = 7\n",
      "7 X 2 = 14\n",
      "7 X 3 = 21\n",
      "7 X 4 = 28\n",
      "7 X 5 = 35\n",
      "7 X 6 = 42\n",
      "7 X 7 = 49\n",
      "7 X 8 = 56\n",
      "7 X 9 = 63\n",
      "-----[ 8 ]단 -----\n",
      "8 X 1 = 8\n",
      "8 X 2 = 16\n",
      "8 X 3 = 24\n",
      "8 X 4 = 32\n",
      "8 X 5 = 40\n",
      "8 X 6 = 48\n",
      "8 X 7 = 56\n",
      "8 X 8 = 64\n",
      "8 X 9 = 72\n",
      "-----[ 9 ]단 -----\n",
      "9 X 1 = 9\n",
      "9 X 2 = 18\n",
      "9 X 3 = 27\n",
      "9 X 4 = 36\n",
      "9 X 5 = 45\n",
      "9 X 6 = 54\n",
      "9 X 7 = 63\n",
      "9 X 8 = 72\n",
      "9 X 9 = 81\n"
     ]
    }
   ],
   "source": [
    "print(\"★구구단을 출력합니다.\")\n",
    "for x in range(2,10):               #2단부터 9단까지 범위\n",
    "    print(\"-----[\",x,']단',\"-----\")  # 실행 예시와 비슷하게 만들기\n",
    "    for y in range(1,10):  #1부터 9까지 곱하는 수\n",
    "        print(x,'X',y,'=',x*y)"
   ]
  },
  {
   "cell_type": "markdown",
   "metadata": {},
   "source": [
    "## 3. (*)로 Tree 만들기\n",
    "- 사용자에게 Tree의 높이 (기둥 부분 제외) 를 입력받아, 그 높이만큼 Tree를 출력하는 코드를 작성하세요.\n",
    "- 실행 예 :   \n",
    "    \n",
    "Tree 의 높이를 입력하세요(5~30) : 5\n",
    "    \n",
    "         *  \n",
    "        ***  \n",
    "       *****  \n",
    "      *******  \n",
    "     *********  \n",
    "        ***  \n",
    "        ***  \n",
    "        ***  "
   ]
  },
  {
   "cell_type": "code",
   "execution_count": null,
   "metadata": {
    "scrolled": true
   },
   "outputs": [],
   "source": []
  },
  {
   "cell_type": "markdown",
   "metadata": {},
   "source": [
    "## 4. 로또 번호 추출하기\n",
    "- 사용자에게 로또 개수를 입력 받아, 1부터 45까지 번호 중 여섯개의 로또 번호를 랜덤으로 생성하는 코드를 작성하세요.\n",
    "- 같은 로또 안에서 중복된 숫자가 있으면 안됩니다.\n",
    "- 실행 예 :   \n",
    "    \n",
    "로또 개수를 입력하세요 : 5  \n",
    "[6, 9, 13, 23, 36, 44]  \n",
    "[3, 7, 12, 27, 42, 44]  \n",
    "[8, 12, 28, 29, 31, 44]  \n",
    "[1, 24, 33, 37, 40, 45]  \n",
    "[9, 12, 22, 26, 36, 38]  "
   ]
  },
  {
   "cell_type": "code",
   "execution_count": null,
   "metadata": {
    "scrolled": true
   },
   "outputs": [],
   "source": []
  },
  {
   "cell_type": "markdown",
   "metadata": {},
   "source": [
    "------------------------------\n",
    "# 끝\n",
    "## 수고하셨습니다 ^_^"
   ]
  },
  {
   "cell_type": "markdown",
   "metadata": {},
   "source": [
    "### Reference\n",
    "- Python 3.4 공부 좀 해볼까?\n",
    "- 파이썬 코딩 도장\n",
    "- 초보자를 위한 파이썬 300제"
   ]
  }
 ],
 "metadata": {
  "kernelspec": {
   "display_name": "Python 3",
   "language": "python",
   "name": "python3"
  },
  "language_info": {
   "codemirror_mode": {
    "name": "ipython",
    "version": 3
   },
   "file_extension": ".py",
   "mimetype": "text/x-python",
   "name": "python",
   "nbconvert_exporter": "python",
   "pygments_lexer": "ipython3",
   "version": "3.8.3"
  }
 },
 "nbformat": 4,
 "nbformat_minor": 4
}
